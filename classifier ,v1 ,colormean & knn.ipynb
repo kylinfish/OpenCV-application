{
 "metadata": {
  "name": "",
  "signature": "sha256:65534022478471fc570b7dcb7707ce4abf41333b6a8c5260a50cbad81a4afc00"
 },
 "nbformat": 3,
 "nbformat_minor": 0,
 "worksheets": [
  {
   "cells": [
    {
     "cell_type": "heading",
     "level": 2,
     "metadata": {},
     "source": [
      "Read image and feature extraction "
     ]
    },
    {
     "cell_type": "code",
     "collapsed": false,
     "input": [
      "%matplotlib inline\n",
      "from matplotlib import pyplot as plt\n",
      "import matplotlib\n",
      "import numpy as np\n",
      "import cv2\n",
      "import sys\n",
      "import math\n",
      "\n",
      "path = '/Users/viplab/Documents/image datset/tiny_Test/'\n",
      "max_size =40\n",
      "category_type= 2\n",
      "category = ['cellphone','pizza','sunflower']\n",
      "partofName = 'image_00'\n",
      "relatePath = path+category[category_type]+\"/\"+partofName\n",
      "\n",
      "def featureExtraction(name):\n",
      "    img = cv2.imread(name)\n",
      "    #color mean\n",
      "    means = cv2.mean(img)\n",
      "    p =  list(means)\n",
      "    p[3]=category_type\n",
      "    return (p)\n",
      "\n",
      "\n",
      "for i in range(1, max_size+1):\n",
      "    count= str(i)\n",
      "    if (i <10):\n",
      "        count=\"0\"+count\n",
      "    fullname  = relatePath +count+\".jpg\"\n",
      "    print featureExtraction(fullname),\",\""
     ],
     "language": "python",
     "metadata": {},
     "outputs": [
      {
       "output_type": "stream",
       "stream": "stdout",
       "text": [
        "[20.746166666666667, 65.64576666666667, 85.23243333333333, 2] ,\n",
        "[100.81901360544218, 146.634268707483, 135.0177551020408, 2] ,\n",
        "[102.08204248366015, 111.81627450980393, 78.40073529411765, 2] ,\n",
        "[43.28377358490566, 74.58054507337526, 78.76863731656184, 2] ,\n",
        "[82.97, 170.6285, 184.58178205128203, 2] ,\n",
        "[35.97717391304348, 58.177855072463764, 85.66989855072464, 2] ,\n",
        "[72.21175257731959, 149.76503436426117, 140.02843642611683, 2] ,\n",
        "[47.96098039215687, 111.77021241830066, 139.8858496732026, 2] ,\n",
        "[131.04445945945946, 158.22022522522522, 173.7404617117117, 2] ,\n",
        "[45.00930678466077, 63.256843657817114, 84.48120943952803, 2] ,\n",
        "[23.13288888888889, 101.13866666666667, 123.61007407407408, 2] ,\n",
        "[34.076735395189, 169.40632302405496, 211.12326460481097, 2] ,\n",
        "[84.56132459970888, 154.01078602620086, 175.01627365356623, 2] ,\n",
        "[82.12067363530778, 150.30078977932635, 183.69256678281067, 2] ,\n",
        "[108.5694851994852, 120.60371943371943, 141.23163449163448, 2] ,\n",
        "[113.95826530612246, 190.04849206349206, 203.46295918367346, 2] ,\n",
        "[88.24155993431856, 91.7016420361248, 72.6843185550082, 2] ,\n",
        "[84.61191335740072, 99.16182912154032, 75.35169675090253, 2] ,\n",
        "[116.2813431013431, 133.65235653235652, 145.69538461538463, 2] ,\n",
        "[38.78369458128079, 81.87348111658457, 98.2195238095238, 2] ,\n",
        "[31.848207407407408, 88.3951111111111, 94.66662222222223, 2] ,\n",
        "[55.32837037037037, 113.22588148148148, 107.89208888888889, 2] ,\n",
        "[127.60453634085214, 134.25587719298247, 137.87045112781956, 2] ,\n",
        "[21.282903703703703, 146.32724444444443, 154.0054814814815, 2] ,\n",
        "[45.40912592592593, 71.50205925925925, 69.92791111111111, 2] ,\n",
        "[46.36297297297297, 70.78087087087087, 87.55438438438438, 2] ,\n",
        "[22.20426984126984, 73.46126984126984, 82.87777777777778, 2] ,\n",
        "[118.19478333333333, 151.82991666666666, 164.49985, 2] ,\n",
        "[88.34477386934674, 164.0338693467337, 147.21264656616415, 2] ,\n",
        "[56.18758716875872, 150.81039051603906, 136.2734449093445, 2] ,\n",
        "[30.585893060295792, 143.7311717861206, 165.37473265073947, 2] ,\n",
        "[42.74166028097063, 111.2755300127714, 129.10716475095785, 2] ,\n",
        "[97.52795662100456, 115.28132420091325, 103.71551369863013, 2] ,\n",
        "[167.9891379310345, 199.62427586206897, 206.77593103448277, 2] ,\n",
        "[124.36110619469028, 121.25637168141594, 111.53293510324484, 2] ,\n",
        "[93.18811926605505, 104.48434250764527, 107.02142201834863, 2] ,\n",
        "[107.29309116809117, 111.13425925925925, 87.62294871794872, 2] ,\n",
        "[48.03278518518518, 102.77345185185186, 109.678, 2] ,\n",
        "[24.649333333333335, 72.29206837606839, 76.01935042735043, 2]"
       ]
      },
      {
       "output_type": "stream",
       "stream": "stdout",
       "text": [
        " ,\n",
        "[57.861751937984494, 74.58026356589147, 82.86246511627907, 2] ,\n"
       ]
      }
     ],
     "prompt_number": 8
    },
    {
     "cell_type": "markdown",
     "metadata": {},
     "source": [
      "<hr>\n",
      "Classifier 1.training and 2. testing\n",
      "<hr>"
     ]
    },
    {
     "cell_type": "heading",
     "level": 2,
     "metadata": {},
     "source": [
      "Knn Classifier"
     ]
    },
    {
     "cell_type": "code",
     "collapsed": false,
     "input": [
      "from sklearn import neighbors\n",
      "y = np.array()\n",
      "X = np.array()\n",
      "\n",
      "# create the model\n",
      "knn = neighbors.KNeighborsClassifier(n_neighbors=1)\n",
      "\n",
      "# fit the model\n",
      "knn.fit(X, y)\n"
     ],
     "language": "python",
     "metadata": {},
     "outputs": [
      {
       "ename": "TypeError",
       "evalue": "Required argument 'object' (pos 1) not found",
       "output_type": "pyerr",
       "traceback": [
        "\u001b[0;31m---------------------------------------------------------------------------\u001b[0m\n\u001b[0;31mTypeError\u001b[0m                                 Traceback (most recent call last)",
        "\u001b[0;32m<ipython-input-5-4bfeae83ec6d>\u001b[0m in \u001b[0;36m<module>\u001b[0;34m()\u001b[0m\n\u001b[1;32m      1\u001b[0m \u001b[0;32mfrom\u001b[0m \u001b[0msklearn\u001b[0m \u001b[0;32mimport\u001b[0m \u001b[0mneighbors\u001b[0m\u001b[0;34m\u001b[0m\u001b[0m\n\u001b[0;32m----> 2\u001b[0;31m \u001b[0my\u001b[0m \u001b[0;34m=\u001b[0m \u001b[0mnp\u001b[0m\u001b[0;34m.\u001b[0m\u001b[0marray\u001b[0m\u001b[0;34m(\u001b[0m\u001b[0;34m)\u001b[0m\u001b[0;34m\u001b[0m\u001b[0m\n\u001b[0m\u001b[1;32m      3\u001b[0m \u001b[0mX\u001b[0m \u001b[0;34m=\u001b[0m \u001b[0mnp\u001b[0m\u001b[0;34m.\u001b[0m\u001b[0marray\u001b[0m\u001b[0;34m(\u001b[0m\u001b[0;34m)\u001b[0m\u001b[0;34m\u001b[0m\u001b[0m\n\u001b[1;32m      4\u001b[0m \u001b[0;34m\u001b[0m\u001b[0m\n\u001b[1;32m      5\u001b[0m \u001b[0;31m# create the model\u001b[0m\u001b[0;34m\u001b[0m\u001b[0;34m\u001b[0m\u001b[0m\n",
        "\u001b[0;31mTypeError\u001b[0m: Required argument 'object' (pos 1) not found"
       ]
      }
     ],
     "prompt_number": 5
    },
    {
     "cell_type": "heading",
     "level": 2,
     "metadata": {},
     "source": [
      "Test(Predict) result and show accuracy"
     ]
    },
    {
     "cell_type": "code",
     "collapsed": false,
     "input": [
      "def countMean(name):\n",
      "    img = cv2.imread(name)\n",
      "    #color mean\n",
      "    means = cv2.mean(img)\n",
      "    p =  list(means)\n",
      "    p[3]=category_type\n",
      "    return (p)\n",
      "\n",
      "def demo(relatePath):\n",
      "    result=[]\n",
      "    for i in range(41, 51):\n",
      "        count= str(i)\n",
      "        fullname  = relatePath +count+\".jpg\"\n",
      "        predict = knn_beta.predict(countMean(fullname))\n",
      "        result.append(predict[0].tolist())\n",
      "    return result\n",
      "\n",
      "\n",
      "def accuracy(cata,predict):\n",
      "    error=0\n",
      "    for p in predict:\n",
      "        if p != cata:\n",
      "            error+=1\n",
      "    acc = 1-float(float(error)/ len(predict))\n",
      "    return acc\n",
      "\n",
      "\n",
      "path = '/Users/viplab/Documents/image datset/tiny_Test/'\n",
      "category = ['cellphone','pizza','sunflower']\n",
      "for i in range(0, 3):\n",
      "    category_type= i\n",
      "    relatePath = path+category[category_type]+\"/image_00\"\n",
      "    print \"category:\",category[i]\n",
      "    predict = demo(relatePath)\n",
      "    print \"predict result:\", predict\n",
      "    print accuracy(i,predict)\n",
      "    "
     ],
     "language": "python",
     "metadata": {},
     "outputs": [
      {
       "output_type": "stream",
       "stream": "stdout",
       "text": [
        "category: cellphone\n"
       ]
      },
      {
       "ename": "NameError",
       "evalue": "global name 'knn_beta' is not defined",
       "output_type": "pyerr",
       "traceback": [
        "\u001b[0;31m---------------------------------------------------------------------------\u001b[0m\n\u001b[0;31mNameError\u001b[0m                                 Traceback (most recent call last)",
        "\u001b[0;32m<ipython-input-9-26773c19f2ce>\u001b[0m in \u001b[0;36m<module>\u001b[0;34m()\u001b[0m\n\u001b[1;32m     32\u001b[0m     \u001b[0mrelatePath\u001b[0m \u001b[0;34m=\u001b[0m \u001b[0mpath\u001b[0m\u001b[0;34m+\u001b[0m\u001b[0mcategory\u001b[0m\u001b[0;34m[\u001b[0m\u001b[0mcategory_type\u001b[0m\u001b[0;34m]\u001b[0m\u001b[0;34m+\u001b[0m\u001b[0;34m\"/image_00\"\u001b[0m\u001b[0;34m\u001b[0m\u001b[0m\n\u001b[1;32m     33\u001b[0m     \u001b[0;32mprint\u001b[0m \u001b[0;34m\"category:\"\u001b[0m\u001b[0;34m,\u001b[0m\u001b[0mcategory\u001b[0m\u001b[0;34m[\u001b[0m\u001b[0mi\u001b[0m\u001b[0;34m]\u001b[0m\u001b[0;34m\u001b[0m\u001b[0m\n\u001b[0;32m---> 34\u001b[0;31m     \u001b[0mpredict\u001b[0m \u001b[0;34m=\u001b[0m \u001b[0mdemo\u001b[0m\u001b[0;34m(\u001b[0m\u001b[0mrelatePath\u001b[0m\u001b[0;34m)\u001b[0m\u001b[0;34m\u001b[0m\u001b[0m\n\u001b[0m\u001b[1;32m     35\u001b[0m     \u001b[0;32mprint\u001b[0m \u001b[0;34m\"predict result:\"\u001b[0m\u001b[0;34m,\u001b[0m \u001b[0mpredict\u001b[0m\u001b[0;34m\u001b[0m\u001b[0m\n\u001b[1;32m     36\u001b[0m     \u001b[0;32mprint\u001b[0m \u001b[0maccuracy\u001b[0m\u001b[0;34m(\u001b[0m\u001b[0mi\u001b[0m\u001b[0;34m,\u001b[0m\u001b[0mpredict\u001b[0m\u001b[0;34m)\u001b[0m\u001b[0;34m\u001b[0m\u001b[0m\n",
        "\u001b[0;32m<ipython-input-9-26773c19f2ce>\u001b[0m in \u001b[0;36mdemo\u001b[0;34m(relatePath)\u001b[0m\n\u001b[1;32m     12\u001b[0m         \u001b[0mcount\u001b[0m\u001b[0;34m=\u001b[0m \u001b[0mstr\u001b[0m\u001b[0;34m(\u001b[0m\u001b[0mi\u001b[0m\u001b[0;34m)\u001b[0m\u001b[0;34m\u001b[0m\u001b[0m\n\u001b[1;32m     13\u001b[0m         \u001b[0mfullname\u001b[0m  \u001b[0;34m=\u001b[0m \u001b[0mrelatePath\u001b[0m \u001b[0;34m+\u001b[0m\u001b[0mcount\u001b[0m\u001b[0;34m+\u001b[0m\u001b[0;34m\".jpg\"\u001b[0m\u001b[0;34m\u001b[0m\u001b[0m\n\u001b[0;32m---> 14\u001b[0;31m         \u001b[0mpredict\u001b[0m \u001b[0;34m=\u001b[0m \u001b[0mknn_beta\u001b[0m\u001b[0;34m.\u001b[0m\u001b[0mpredict\u001b[0m\u001b[0;34m(\u001b[0m\u001b[0mcountMean\u001b[0m\u001b[0;34m(\u001b[0m\u001b[0mfullname\u001b[0m\u001b[0;34m)\u001b[0m\u001b[0;34m)\u001b[0m\u001b[0;34m\u001b[0m\u001b[0m\n\u001b[0m\u001b[1;32m     15\u001b[0m         \u001b[0mresult\u001b[0m\u001b[0;34m.\u001b[0m\u001b[0mappend\u001b[0m\u001b[0;34m(\u001b[0m\u001b[0mpredict\u001b[0m\u001b[0;34m[\u001b[0m\u001b[0;36m0\u001b[0m\u001b[0;34m]\u001b[0m\u001b[0;34m.\u001b[0m\u001b[0mtolist\u001b[0m\u001b[0;34m(\u001b[0m\u001b[0;34m)\u001b[0m\u001b[0;34m)\u001b[0m\u001b[0;34m\u001b[0m\u001b[0m\n\u001b[1;32m     16\u001b[0m     \u001b[0;32mreturn\u001b[0m \u001b[0mresult\u001b[0m\u001b[0;34m\u001b[0m\u001b[0m\n",
        "\u001b[0;31mNameError\u001b[0m: global name 'knn_beta' is not defined"
       ]
      }
     ],
     "prompt_number": 9
    }
   ],
   "metadata": {}
  }
 ]
}