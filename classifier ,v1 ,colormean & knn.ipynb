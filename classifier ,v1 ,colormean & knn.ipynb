{
 "metadata": {
  "name": "",
  "signature": "sha256:fdfcaeb0241d372a6ebeb7943fc9a66d7e66dcb0ad40fa6ab6f9ce64ff349619"
 },
 "nbformat": 3,
 "nbformat_minor": 0,
 "worksheets": [
  {
   "cells": [
    {
     "cell_type": "heading",
     "level": 2,
     "metadata": {},
     "source": [
      "Read image and feature extraction "
     ]
    },
    {
     "cell_type": "code",
     "collapsed": false,
     "input": [
      "%matplotlib inline\n",
      "from matplotlib import pyplot as plt\n",
      "import matplotlib\n",
      "import numpy as np\n",
      "import cv2\n",
      "import sys\n",
      "import math\n",
      "\n",
      "path = '/Users/viplab/Documents/image datset/tiny_Test/'\n",
      "category = ['cellphone','pizza','sunflower']\n",
      "pic_number =50\n",
      "\n",
      "def featureExtraction(name,times):\n",
      "    img = cv2.imread(name)\n",
      "    #color mean\n",
      "    means = cv2.mean(img)\n",
      "    p =  list(means)\n",
      "    p[3]=times\n",
      "    return str(p)\n",
      "\n",
      "def targetWrite(class_num, size):\n",
      "    label=[]\n",
      "    for a in range(1, size+1):\n",
      "        label.append(class_num)\n",
      "    return label\n",
      "\n",
      "\n",
      "def collect_label_set():\n",
      "    all_data = [] \n",
      "    for i in range (0, len(category)):\n",
      "        all_data.extend(targetWrite(i, pic_number))\n",
      "\n",
      "    f = open('class_label.txt','r+')\n",
      "    f.write(str(all_data))\n",
      "    f.close()\n",
      "    return \"done.\"\n",
      "    \n",
      "def collect_feature_set():\n",
      "    f = open('feature.txt','r+')\n",
      "    source = \"\"\n",
      "    for times in range (0, len(category)): #cata type\n",
      "        relatePath = path+category[times]+\"/image_00\"\n",
      "        for i in range(1, pic_number+1):\n",
      "            count= str(i)\n",
      "            if (i <10):\n",
      "                count=\"0\"+count\n",
      "            fullname  = relatePath +count+\".jpg\"\n",
      "            feature = featureExtraction(fullname, times)+\",\\n\"\n",
      "            source += feature     \n",
      "    f.seek(0)\n",
      "    f.write(source)\n",
      "    f.close()\n",
      "    \n",
      "    return \"done.\"\n",
      "    \n",
      "#main\n",
      "collect_label_set()\n",
      "collect_feature_set()"
     ],
     "language": "python",
     "metadata": {},
     "outputs": [
      {
       "metadata": {},
       "output_type": "pyout",
       "prompt_number": 25,
       "text": [
        "'done.'"
       ]
      }
     ],
     "prompt_number": 25
    },
    {
     "cell_type": "markdown",
     "metadata": {},
     "source": [
      "<hr>\n",
      "Classifier 1.training and 2. testing\n",
      "<hr>"
     ]
    },
    {
     "cell_type": "heading",
     "level": 2,
     "metadata": {},
     "source": [
      "Knn Classifier"
     ]
    },
    {
     "cell_type": "code",
     "collapsed": false,
     "input": [
      "from sklearn import neighbors\n",
      "f = open('class_label.txt','r')\n",
      "class_target = f.read()\n",
      "f.close()\n",
      "f2 = open('feature.txt','r')\n",
      "feature_set = f2.read()\n",
      "f2.close()\n",
      "\n",
      "y = np.array(class_target)\n",
      "X = np.array([feature_set])\n",
      "\n",
      "\n",
      "# create the model\n",
      "knn = neighbors.KNeighborsClassifier(n_neighbors=1)\n",
      "\n",
      "# fit the model\n",
      "#knn.fit(X, y)\n",
      "\n",
      "class_target.__class__\n"
     ],
     "language": "python",
     "metadata": {},
     "outputs": [
      {
       "metadata": {},
       "output_type": "pyout",
       "prompt_number": 40,
       "text": [
        "str"
       ]
      }
     ],
     "prompt_number": 40
    },
    {
     "cell_type": "code",
     "collapsed": false,
     "input": [],
     "language": "python",
     "metadata": {},
     "outputs": []
    },
    {
     "cell_type": "heading",
     "level": 2,
     "metadata": {},
     "source": [
      "Test(Predict) result and show accuracy"
     ]
    },
    {
     "cell_type": "code",
     "collapsed": false,
     "input": [
      "def countMean(name):\n",
      "    img = cv2.imread(name)\n",
      "    #color mean\n",
      "    means = cv2.mean(img)\n",
      "    p =  list(means)\n",
      "    p[3]=category_type\n",
      "    return (p)\n",
      "\n",
      "def demo(relatePath):\n",
      "    result=[]\n",
      "    for i in range(41, 51):\n",
      "        count= str(i)\n",
      "        fullname  = relatePath +count+\".jpg\"\n",
      "        predict = knn_beta.predict(countMean(fullname))\n",
      "        result.append(predict[0].tolist())\n",
      "    return result\n",
      "\n",
      "\n",
      "def accuracy(cata,predict):\n",
      "    error=0\n",
      "    for p in predict:\n",
      "        if p != cata:\n",
      "            error+=1\n",
      "    acc = 1-float(float(error)/ len(predict))\n",
      "    return acc\n",
      "\n",
      "\n",
      "path = '/Users/viplab/Documents/image datset/tiny_Test/'\n",
      "category = ['cellphone','pizza','sunflower']\n",
      "for i in range(0, 3):\n",
      "    category_type= i\n",
      "    relatePath = path+category[category_type]+\"/image_00\"\n",
      "    print \"category:\",category[i]\n",
      "    predict = demo(relatePath)\n",
      "    print \"predict result:\", predict\n",
      "    print accuracy(i,predict)\n",
      "    "
     ],
     "language": "python",
     "metadata": {},
     "outputs": [
      {
       "output_type": "stream",
       "stream": "stdout",
       "text": [
        "category: cellphone\n"
       ]
      },
      {
       "ename": "NameError",
       "evalue": "global name 'knn_beta' is not defined",
       "output_type": "pyerr",
       "traceback": [
        "\u001b[0;31m---------------------------------------------------------------------------\u001b[0m\n\u001b[0;31mNameError\u001b[0m                                 Traceback (most recent call last)",
        "\u001b[0;32m<ipython-input-9-26773c19f2ce>\u001b[0m in \u001b[0;36m<module>\u001b[0;34m()\u001b[0m\n\u001b[1;32m     32\u001b[0m     \u001b[0mrelatePath\u001b[0m \u001b[0;34m=\u001b[0m \u001b[0mpath\u001b[0m\u001b[0;34m+\u001b[0m\u001b[0mcategory\u001b[0m\u001b[0;34m[\u001b[0m\u001b[0mcategory_type\u001b[0m\u001b[0;34m]\u001b[0m\u001b[0;34m+\u001b[0m\u001b[0;34m\"/image_00\"\u001b[0m\u001b[0;34m\u001b[0m\u001b[0m\n\u001b[1;32m     33\u001b[0m     \u001b[0;32mprint\u001b[0m \u001b[0;34m\"category:\"\u001b[0m\u001b[0;34m,\u001b[0m\u001b[0mcategory\u001b[0m\u001b[0;34m[\u001b[0m\u001b[0mi\u001b[0m\u001b[0;34m]\u001b[0m\u001b[0;34m\u001b[0m\u001b[0m\n\u001b[0;32m---> 34\u001b[0;31m     \u001b[0mpredict\u001b[0m \u001b[0;34m=\u001b[0m \u001b[0mdemo\u001b[0m\u001b[0;34m(\u001b[0m\u001b[0mrelatePath\u001b[0m\u001b[0;34m)\u001b[0m\u001b[0;34m\u001b[0m\u001b[0m\n\u001b[0m\u001b[1;32m     35\u001b[0m     \u001b[0;32mprint\u001b[0m \u001b[0;34m\"predict result:\"\u001b[0m\u001b[0;34m,\u001b[0m \u001b[0mpredict\u001b[0m\u001b[0;34m\u001b[0m\u001b[0m\n\u001b[1;32m     36\u001b[0m     \u001b[0;32mprint\u001b[0m \u001b[0maccuracy\u001b[0m\u001b[0;34m(\u001b[0m\u001b[0mi\u001b[0m\u001b[0;34m,\u001b[0m\u001b[0mpredict\u001b[0m\u001b[0;34m)\u001b[0m\u001b[0;34m\u001b[0m\u001b[0m\n",
        "\u001b[0;32m<ipython-input-9-26773c19f2ce>\u001b[0m in \u001b[0;36mdemo\u001b[0;34m(relatePath)\u001b[0m\n\u001b[1;32m     12\u001b[0m         \u001b[0mcount\u001b[0m\u001b[0;34m=\u001b[0m \u001b[0mstr\u001b[0m\u001b[0;34m(\u001b[0m\u001b[0mi\u001b[0m\u001b[0;34m)\u001b[0m\u001b[0;34m\u001b[0m\u001b[0m\n\u001b[1;32m     13\u001b[0m         \u001b[0mfullname\u001b[0m  \u001b[0;34m=\u001b[0m \u001b[0mrelatePath\u001b[0m \u001b[0;34m+\u001b[0m\u001b[0mcount\u001b[0m\u001b[0;34m+\u001b[0m\u001b[0;34m\".jpg\"\u001b[0m\u001b[0;34m\u001b[0m\u001b[0m\n\u001b[0;32m---> 14\u001b[0;31m         \u001b[0mpredict\u001b[0m \u001b[0;34m=\u001b[0m \u001b[0mknn_beta\u001b[0m\u001b[0;34m.\u001b[0m\u001b[0mpredict\u001b[0m\u001b[0;34m(\u001b[0m\u001b[0mcountMean\u001b[0m\u001b[0;34m(\u001b[0m\u001b[0mfullname\u001b[0m\u001b[0;34m)\u001b[0m\u001b[0;34m)\u001b[0m\u001b[0;34m\u001b[0m\u001b[0m\n\u001b[0m\u001b[1;32m     15\u001b[0m         \u001b[0mresult\u001b[0m\u001b[0;34m.\u001b[0m\u001b[0mappend\u001b[0m\u001b[0;34m(\u001b[0m\u001b[0mpredict\u001b[0m\u001b[0;34m[\u001b[0m\u001b[0;36m0\u001b[0m\u001b[0;34m]\u001b[0m\u001b[0;34m.\u001b[0m\u001b[0mtolist\u001b[0m\u001b[0;34m(\u001b[0m\u001b[0;34m)\u001b[0m\u001b[0;34m)\u001b[0m\u001b[0;34m\u001b[0m\u001b[0m\n\u001b[1;32m     16\u001b[0m     \u001b[0;32mreturn\u001b[0m \u001b[0mresult\u001b[0m\u001b[0;34m\u001b[0m\u001b[0m\n",
        "\u001b[0;31mNameError\u001b[0m: global name 'knn_beta' is not defined"
       ]
      }
     ],
     "prompt_number": 9
    }
   ],
   "metadata": {}
  }
 ]
}