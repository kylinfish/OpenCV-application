{
 "metadata": {
  "name": "",
  "signature": "sha256:458a748462fbcf658863d267babd9bfc31bcf8bff4edf0531c3acfee90093f36"
 },
 "nbformat": 3,
 "nbformat_minor": 0,
 "worksheets": [
  {
   "cells": [
    {
     "cell_type": "heading",
     "level": 1,
     "metadata": {},
     "source": [
      "Cross-validation with Iris dataset\n"
     ]
    },
    {
     "cell_type": "code",
     "collapsed": false,
     "input": [
      "import numpy as np\n",
      "from sklearn import cross_validation\n",
      "from sklearn import datasets\n",
      "from sklearn import svm\n",
      "\n",
      "iris = datasets.load_iris()\n",
      "print \"shape:\",iris.data.shape, iris.target.shape\n",
      "print \"Labeles: \",iris.target_names\n",
      "print iris.target"
     ],
     "language": "python",
     "metadata": {},
     "outputs": [
      {
       "output_type": "stream",
       "stream": "stdout",
       "text": [
        "shape: (150, 4) (150,)\n",
        "Labeles:  ['setosa' 'versicolor' 'virginica']\n",
        "[0 0 0 0 0 0 0 0 0 0 0 0 0 0 0 0 0 0 0 0 0 0 0 0 0 0 0 0 0 0 0 0 0 0 0 0 0\n",
        " 0 0 0 0 0 0 0 0 0 0 0 0 0 1 1 1 1 1 1 1 1 1 1 1 1 1 1 1 1 1 1 1 1 1 1 1 1\n",
        " 1 1 1 1 1 1 1 1 1 1 1 1 1 1 1 1 1 1 1 1 1 1 1 1 1 1 2 2 2 2 2 2 2 2 2 2 2\n",
        " 2 2 2 2 2 2 2 2 2 2 2 2 2 2 2 2 2 2 2 2 2 2 2 2 2 2 2 2 2 2 2 2 2 2 2 2 2\n",
        " 2 2]\n"
       ]
      }
     ],
     "prompt_number": 17
    },
    {
     "cell_type": "heading",
     "level": 3,
     "metadata": {},
     "source": [
      "Sampling 60/40"
     ]
    },
    {
     "cell_type": "code",
     "collapsed": false,
     "input": [
      "X_train, X_test, y_train, y_test = cross_validation.train_test_split(\n",
      "    iris.data, iris.target, test_size=0.4, random_state=0)\n",
      "\n",
      "print \"training :\",X_train.shape, y_train.shape\n",
      "\n",
      "print \"testing :\",X_test.shape, y_test.shape\n",
      "\n",
      "\n",
      "#fit : training classifier called \"clf\"\n",
      "clf = svm.SVC(kernel='linear', C=1).fit(X_train, y_train)\n",
      "clf.score(X_test, y_test)  "
     ],
     "language": "python",
     "metadata": {},
     "outputs": [
      {
       "output_type": "stream",
       "stream": "stdout",
       "text": [
        "training : (90, 4) (90,)\n",
        "testing : (60, 4) (60,)\n"
       ]
      },
      {
       "metadata": {},
       "output_type": "pyout",
       "prompt_number": 19,
       "text": [
        "0.96666666666666667"
       ]
      }
     ],
     "prompt_number": 19
    },
    {
     "cell_type": "heading",
     "level": 2,
     "metadata": {},
     "source": [
      "Computing cross-validated metrics"
     ]
    },
    {
     "cell_type": "code",
     "collapsed": false,
     "input": [
      "clf = svm.SVC(kernel='linear', C=1)\n",
      "#cv=5 => run 5 times \n",
      "scores = cross_validation.cross_val_score(\n",
      "   clf, iris.data, iris.target, cv=5)\n",
      "\n",
      "scores                                              \n"
     ],
     "language": "python",
     "metadata": {},
     "outputs": [
      {
       "metadata": {},
       "output_type": "pyout",
       "prompt_number": 32,
       "text": [
        "array([ 1.        ,  0.97435897,  0.97222222,  0.97222222])"
       ]
      }
     ],
     "prompt_number": 32
    },
    {
     "cell_type": "code",
     "collapsed": false,
     "input": [
      "print(\"Accuracy: %0.2f (+/- %0.2f)\" % (scores.mean(), scores.std() * 2))"
     ],
     "language": "python",
     "metadata": {},
     "outputs": [
      {
       "output_type": "stream",
       "stream": "stdout",
       "text": [
        "Accuracy: 0.98 (+/- 0.02)\n"
       ]
      }
     ],
     "prompt_number": 33
    },
    {
     "cell_type": "markdown",
     "metadata": {},
     "source": [
      "<hr>"
     ]
    },
    {
     "cell_type": "heading",
     "level": 1,
     "metadata": {},
     "source": [
      "Nearest neighbor and the curse of dimensionality"
     ]
    },
    {
     "cell_type": "code",
     "collapsed": false,
     "input": [
      "import numpy as np\n",
      "from sklearn import datasets\n",
      "iris = datasets.load_iris()\n",
      "iris_X = iris.data\n",
      "iris_y = iris.target #ground truth\n",
      "np.unique(iris_y) \n",
      "\n",
      "#class label 0,1,2 (setosa', 'versicolor', 'virginica')"
     ],
     "language": "python",
     "metadata": {},
     "outputs": [
      {
       "metadata": {},
       "output_type": "pyout",
       "prompt_number": 62,
       "text": [
        "array([0, 1, 2])"
       ]
      }
     ],
     "prompt_number": 62
    },
    {
     "cell_type": "code",
     "collapsed": false,
     "input": [
      "# Split iris data in train and test data\n",
      "# A random permutation, to split the data randomly\n",
      "np.random.seed(0)\n",
      "indices = np.random.permutation(len(iris_X))\n",
      "iris_X_train = iris_X[indices[:-10]]\n",
      "iris_y_train = iris_y[indices[:-10]]\n",
      "iris_X_test  = iris_X[indices[-10:]]\n",
      "iris_y_test  = iris_y[indices[-10:]]\n",
      "\n",
      "#\u5c07\u539f\u8cc7\u6599\u6253\u4e82\uff0c\u5206\u914d\u6210training and testing \u5169\u500b\u8cc7\u6599\u96c6\n",
      "\n",
      "# Create and fit a nearest-neighbor classifier\n",
      "\n",
      "from sklearn.neighbors import KNeighborsClassifier\n",
      "\n",
      "knn = KNeighborsClassifier()\n",
      "#training  knn classifier\n",
      "knn.fit(iris_X_train, iris_y_train) \n",
      "\n",
      "#test => predict\n",
      "print \"knn predict:\",knn.predict(iris_X_test)\n",
      "print \"Ground truth:\",iris_y_test"
     ],
     "language": "python",
     "metadata": {},
     "outputs": [
      {
       "output_type": "stream",
       "stream": "stdout",
       "text": [
        "knn predict: [1 2 1 0 0 0 2 1 2 0]\n",
        "Ground truth: [1 1 1 0 0 0 2 1 2 0]\n"
       ]
      }
     ],
     "prompt_number": 84
    }
   ],
   "metadata": {}
  }
 ]
}